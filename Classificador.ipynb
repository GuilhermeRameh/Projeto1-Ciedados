{
 "cells": [
  {
   "cell_type": "markdown",
   "metadata": {},
   "source": [
    " # Classificador De Twitts #\n",
    " \n",
    " Classificação no Excel:\n",
    "* 0 - Irrelevante\n",
    "* 1 - Relevante (fala sobre havaianas)\n",
    "* 2 - Muito Relevante (gosto da pessoa > 'gostou', 'nao gostou' etc"
   ]
  },
  {
   "cell_type": "code",
   "execution_count": 87,
   "metadata": {},
   "outputs": [],
   "source": [
    "%matplotlib inline\n",
    "import pandas as pd\n",
    "import matplotlib.pyplot as plt\n",
    "import numpy as np\n",
    "import os"
   ]
  },
  {
   "cell_type": "code",
   "execution_count": 88,
   "metadata": {},
   "outputs": [
    {
     "name": "stdout",
     "output_type": "stream",
     "text": [
      "Esperamos trabalhar no diretório\n",
      "C:\\Users\\guilh\\OneDrive - Insper - Institudo de Ensino e Pesquisa\\2° Semestre\\Ciência dos Dados\\Projeto1-Ciedados\n"
     ]
    }
   ],
   "source": [
    "print('Esperamos trabalhar no diretório')\n",
    "print(os.getcwd())"
   ]
  },
  {
   "cell_type": "code",
   "execution_count": 91,
   "metadata": {},
   "outputs": [],
   "source": [
    "excel = pd.ExcelFile('havaiana.xlsx')\n",
    "dados = pd.read_excel(excel, 'Treinamento')\n",
    "teste = pd.read_excel(excel, 'Teste')"
   ]
  },
  {
   "cell_type": "code",
   "execution_count": 92,
   "metadata": {},
   "outputs": [],
   "source": [
    "dados['Treinamento'] = dados.Treinamento.astype('category')\n",
    "dados['Categoria'] = dados.Categoria.astype('category')\n",
    "\n",
    "teste['Teste'] = dados.Treinamento.astype('category')\n",
    "teste['Categoria'] = dados.Categoria.astype('category')"
   ]
  },
  {
   "cell_type": "code",
   "execution_count": 93,
   "metadata": {},
   "outputs": [],
   "source": [
    "dados.Categoria.cat.categories = ['Irrelevante', ' Relevante', 'Muito Relevante']\n",
    "teste.Categoria.cat.categories = ['Irrelevante', ' Relevante', 'Muito Relevante']"
   ]
  },
  {
   "cell_type": "code",
   "execution_count": 94,
   "metadata": {},
   "outputs": [
    {
     "data": {
      "text/plain": [
       "Irrelevante        0.496977\n",
       " Relevante         0.303507\n",
       "Muito Relevante    0.199516\n",
       "Name: Categoria, dtype: float64"
      ]
     },
     "execution_count": 94,
     "metadata": {},
     "output_type": "execute_result"
    }
   ],
   "source": [
    "(dados.Categoria.value_counts(sort=False)+teste.Categoria.value_counts(sort=False))/(len(dados)+len(teste))\n",
    "\n"
   ]
  },
  {
   "cell_type": "code",
   "execution_count": null,
   "metadata": {},
   "outputs": [],
   "source": []
  }
 ],
 "metadata": {
  "kernelspec": {
   "display_name": "Python 3",
   "language": "python",
   "name": "python3"
  },
  "language_info": {
   "codemirror_mode": {
    "name": "ipython",
    "version": 3
   },
   "file_extension": ".py",
   "mimetype": "text/x-python",
   "name": "python",
   "nbconvert_exporter": "python",
   "pygments_lexer": "ipython3",
   "version": "3.7.6"
  }
 },
 "nbformat": 4,
 "nbformat_minor": 4
}
