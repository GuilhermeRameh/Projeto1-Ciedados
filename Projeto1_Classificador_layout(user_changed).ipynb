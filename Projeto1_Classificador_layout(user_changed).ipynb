{
 "cells": [
  {
   "cell_type": "markdown",
   "metadata": {},
   "source": [
    "# Projeto 1 - Ciência dos Dados"
   ]
  },
  {
   "cell_type": "markdown",
   "metadata": {},
   "source": [
    "Nome: Guilherme Rameh\n",
    "\n",
    "Nome: Tales Veneruci\n",
    "\n",
    "Nome: Gabriella Zullo"
   ]
  },
  {
   "cell_type": "markdown",
   "metadata": {},
   "source": [
    "**Atenção:** Serão permitidos grupos de três pessoas, mas com uma rubrica mais exigente. Grupos deste tamanho precisarão fazer um questionário de avaliação de trabalho em equipe"
   ]
  },
  {
   "cell_type": "markdown",
   "metadata": {},
   "source": [
    "___\n",
    "Carregando algumas bibliotecas:"
   ]
  },
  {
   "cell_type": "code",
   "execution_count": 1,
   "metadata": {},
   "outputs": [],
   "source": [
    "%matplotlib inline\n",
    "import pandas as pd\n",
    "import matplotlib.pyplot as plt\n",
    "import numpy as np\n",
    "import os"
   ]
  },
  {
   "cell_type": "markdown",
   "metadata": {},
   "source": [
    "**Em `filename`, coloque o nome do seu arquivo de dados!**"
   ]
  },
  {
   "cell_type": "code",
   "execution_count": 2,
   "metadata": {
    "scrolled": false
   },
   "outputs": [
    {
     "name": "stdout",
     "output_type": "stream",
     "text": [
      "Encontrei o arquivo havaiana.xlsx, tudo certo para prosseguir com a prova!\n"
     ]
    }
   ],
   "source": [
    "import os\n",
    "\n",
    "filename = 'havaiana.xlsx'\n",
    "if filename in os.listdir():\n",
    "    print(f'Encontrei o arquivo {filename}, tudo certo para prosseguir com a prova!')\n",
    "else:\n",
    "    print(f'Não encontrei o arquivo {filename} aqui no diretório {os.getcwd()}, será que você não baixou o arquivo?')"
   ]
  },
  {
   "cell_type": "markdown",
   "metadata": {},
   "source": [
    "Carregando a base de dados com os tweets classificados como relevantes e não relevantes:"
   ]
  },
  {
   "cell_type": "code",
   "execution_count": 3,
   "metadata": {},
   "outputs": [
    {
     "data": {
      "text/html": [
       "<div>\n",
       "<style scoped>\n",
       "    .dataframe tbody tr th:only-of-type {\n",
       "        vertical-align: middle;\n",
       "    }\n",
       "\n",
       "    .dataframe tbody tr th {\n",
       "        vertical-align: top;\n",
       "    }\n",
       "\n",
       "    .dataframe thead th {\n",
       "        text-align: right;\n",
       "    }\n",
       "</style>\n",
       "<table border=\"1\" class=\"dataframe\">\n",
       "  <thead>\n",
       "    <tr style=\"text-align: right;\">\n",
       "      <th></th>\n",
       "      <th>Treinamento</th>\n",
       "      <th>Categoria</th>\n",
       "    </tr>\n",
       "  </thead>\n",
       "  <tbody>\n",
       "    <tr>\n",
       "      <th>0</th>\n",
       "      <td>@garotodoflop que dor migo, só apanhei de hava...</td>\n",
       "      <td>0</td>\n",
       "    </tr>\n",
       "    <tr>\n",
       "      <th>1</th>\n",
       "      <td>eu amava que no premen eu botava fardinha com ...</td>\n",
       "      <td>0</td>\n",
       "    </tr>\n",
       "    <tr>\n",
       "      <th>2</th>\n",
       "      <td>namorada: vc vai assim?\\n\\neu tentando achar o...</td>\n",
       "      <td>1</td>\n",
       "    </tr>\n",
       "    <tr>\n",
       "      <th>3</th>\n",
       "      <td>meu novo perfume é cheiro de havaiana recém fa...</td>\n",
       "      <td>0</td>\n",
       "    </tr>\n",
       "    <tr>\n",
       "      <th>4</th>\n",
       "      <td>hj meu dia foi mara \\nacordei, fiz um cafézão ...</td>\n",
       "      <td>0</td>\n",
       "    </tr>\n",
       "  </tbody>\n",
       "</table>\n",
       "</div>"
      ],
      "text/plain": [
       "                                         Treinamento  Categoria\n",
       "0  @garotodoflop que dor migo, só apanhei de hava...          0\n",
       "1  eu amava que no premen eu botava fardinha com ...          0\n",
       "2  namorada: vc vai assim?\\n\\neu tentando achar o...          1\n",
       "3  meu novo perfume é cheiro de havaiana recém fa...          0\n",
       "4  hj meu dia foi mara \\nacordei, fiz um cafézão ...          0"
      ]
     },
     "execution_count": 3,
     "metadata": {},
     "output_type": "execute_result"
    }
   ],
   "source": [
    "train = pd.read_excel(filename)\n",
    "train.head(5)"
   ]
  },
  {
   "cell_type": "code",
   "execution_count": 4,
   "metadata": {},
   "outputs": [
    {
     "data": {
      "text/html": [
       "<div>\n",
       "<style scoped>\n",
       "    .dataframe tbody tr th:only-of-type {\n",
       "        vertical-align: middle;\n",
       "    }\n",
       "\n",
       "    .dataframe tbody tr th {\n",
       "        vertical-align: top;\n",
       "    }\n",
       "\n",
       "    .dataframe thead th {\n",
       "        text-align: right;\n",
       "    }\n",
       "</style>\n",
       "<table border=\"1\" class=\"dataframe\">\n",
       "  <thead>\n",
       "    <tr style=\"text-align: right;\">\n",
       "      <th></th>\n",
       "      <th>Teste</th>\n",
       "      <th>Categoria</th>\n",
       "    </tr>\n",
       "  </thead>\n",
       "  <tbody>\n",
       "    <tr>\n",
       "      <th>0</th>\n",
       "      <td>@sampaio74 havaiana? não vou nem sujar kkkkkk ...</td>\n",
       "      <td>0</td>\n",
       "    </tr>\n",
       "    <tr>\n",
       "      <th>1</th>\n",
       "      <td>eu num sei se é meu pé que ainda tá crescendo ...</td>\n",
       "      <td>0</td>\n",
       "    </tr>\n",
       "    <tr>\n",
       "      <th>2</th>\n",
       "      <td>@mateuscarrilho a havaiana verde 💚</td>\n",
       "      <td>2</td>\n",
       "    </tr>\n",
       "    <tr>\n",
       "      <th>3</th>\n",
       "      <td>rt @spn: misha collins de havaiana e com a ban...</td>\n",
       "      <td>2</td>\n",
       "    </tr>\n",
       "    <tr>\n",
       "      <th>4</th>\n",
       "      <td>minha havaiana tava preta ele deixou branquinh...</td>\n",
       "      <td>1</td>\n",
       "    </tr>\n",
       "  </tbody>\n",
       "</table>\n",
       "</div>"
      ],
      "text/plain": [
       "                                               Teste  Categoria\n",
       "0  @sampaio74 havaiana? não vou nem sujar kkkkkk ...          0\n",
       "1  eu num sei se é meu pé que ainda tá crescendo ...          0\n",
       "2                 @mateuscarrilho a havaiana verde 💚          2\n",
       "3  rt @spn: misha collins de havaiana e com a ban...          2\n",
       "4  minha havaiana tava preta ele deixou branquinh...          1"
      ]
     },
     "execution_count": 4,
     "metadata": {},
     "output_type": "execute_result"
    }
   ],
   "source": [
    "test = pd.read_excel(filename, sheet_name = 'Teste')\n",
    "test.head(5)"
   ]
  },
  {
   "cell_type": "markdown",
   "metadata": {},
   "source": [
    "___\n",
    "## Classificador automático de sentimento\n"
   ]
  },
  {
   "cell_type": "markdown",
   "metadata": {},
   "source": [
    "Faça aqui uma descrição do seu produto e o que considerou como relevante ou não relevante na classificação dos tweets.\n",
    "\n",
    "Nosso produto são os chinelos havaianas.<br>\n",
    "<i>Legenda de classificação:</i>\n",
    "- Tweet não falava diretamente do produto: <b>Irrelevante</b> 0\n",
    "- Tweet falava do produto \"havaianas\" mas não deixava claro o que o consumidor achava deste: <b>Relevante</b> 1\n",
    "- Tweet falava diretamente que gostou/não gostou de um produto, ou do preço: <b>Muito Relevante</b> 2"
   ]
  },
  {
   "cell_type": "markdown",
   "metadata": {},
   "source": [
    "___\n",
    "### Montando um Classificador Naive-Bayes\n",
    "\n",
    "Considerando apenas as mensagens da planilha Treinamento, ensine  seu classificador."
   ]
  },
  {
   "cell_type": "code",
   "execution_count": 5,
   "metadata": {},
   "outputs": [],
   "source": [
    "train.Categoria = train.Categoria.astype('category')\n",
    "test.Categoria = test.Categoria.astype('category')"
   ]
  },
  {
   "cell_type": "code",
   "execution_count": 6,
   "metadata": {},
   "outputs": [
    {
     "data": {
      "text/html": [
       "<div>\n",
       "<style scoped>\n",
       "    .dataframe tbody tr th:only-of-type {\n",
       "        vertical-align: middle;\n",
       "    }\n",
       "\n",
       "    .dataframe tbody tr th {\n",
       "        vertical-align: top;\n",
       "    }\n",
       "\n",
       "    .dataframe thead th {\n",
       "        text-align: right;\n",
       "    }\n",
       "</style>\n",
       "<table border=\"1\" class=\"dataframe\">\n",
       "  <thead>\n",
       "    <tr style=\"text-align: right;\">\n",
       "      <th></th>\n",
       "      <th>Treinamento</th>\n",
       "      <th>Categoria</th>\n",
       "    </tr>\n",
       "  </thead>\n",
       "  <tbody>\n",
       "    <tr>\n",
       "      <th>0</th>\n",
       "      <td>@garotodoflop que dor migo, só apanhei de hava...</td>\n",
       "      <td>Irrelevante</td>\n",
       "    </tr>\n",
       "    <tr>\n",
       "      <th>1</th>\n",
       "      <td>eu amava que no premen eu botava fardinha com ...</td>\n",
       "      <td>Irrelevante</td>\n",
       "    </tr>\n",
       "    <tr>\n",
       "      <th>2</th>\n",
       "      <td>namorada: vc vai assim?\\n\\neu tentando achar o...</td>\n",
       "      <td>Relevante</td>\n",
       "    </tr>\n",
       "    <tr>\n",
       "      <th>3</th>\n",
       "      <td>meu novo perfume é cheiro de havaiana recém fa...</td>\n",
       "      <td>Irrelevante</td>\n",
       "    </tr>\n",
       "    <tr>\n",
       "      <th>4</th>\n",
       "      <td>hj meu dia foi mara \\nacordei, fiz um cafézão ...</td>\n",
       "      <td>Irrelevante</td>\n",
       "    </tr>\n",
       "  </tbody>\n",
       "</table>\n",
       "</div>"
      ],
      "text/plain": [
       "                                         Treinamento    Categoria\n",
       "0  @garotodoflop que dor migo, só apanhei de hava...  Irrelevante\n",
       "1  eu amava que no premen eu botava fardinha com ...  Irrelevante\n",
       "2  namorada: vc vai assim?\\n\\neu tentando achar o...    Relevante\n",
       "3  meu novo perfume é cheiro de havaiana recém fa...  Irrelevante\n",
       "4  hj meu dia foi mara \\nacordei, fiz um cafézão ...  Irrelevante"
      ]
     },
     "execution_count": 6,
     "metadata": {},
     "output_type": "execute_result"
    }
   ],
   "source": [
    "train.Categoria.cat.categories = ['Irrelevante', 'Relevante', 'Muito Relevante']\n",
    "test.Categoria.cat.categories = ['Irrelevante', 'Relevante', 'Muito Relevante']\n",
    "train.head()"
   ]
  },
  {
   "cell_type": "code",
   "execution_count": 7,
   "metadata": {},
   "outputs": [],
   "source": [
    "import re \n",
    "\n",
    "def cleanup(text):\n",
    "    \"\"\"\n",
    "        Função de limpeza muito simples que troca alguns sinais básicos por espaços\n",
    "    \"\"\"\n",
    "    #import string\n",
    "    punctuation = '[!-.:?;@]' # Note que os sinais [] são delimitadores de um conjunto.\n",
    "    pattern = re.compile(punctuation)\n",
    "    text_subbed = re.sub(pattern, '', text)\n",
    "    return text_subbed"
   ]
  },
  {
   "cell_type": "code",
   "execution_count": 8,
   "metadata": {},
   "outputs": [],
   "source": [
    "irrelevante = train.loc[train.Categoria=='Irrelevante',:]\n",
    "relevante = train.loc[train.Categoria=='Relevante',:]\n",
    "muitoRelevante = train.loc[train.Categoria=='Muito Relevante',:]"
   ]
  },
  {
   "cell_type": "code",
   "execution_count": 9,
   "metadata": {},
   "outputs": [],
   "source": [
    "trainString_Irrelevante = irrelevante.Treinamento.to_string()\n",
    "trainString_Relevante = relevante.Treinamento.to_string()\n",
    "trainString_MuitoRelevante = muitoRelevante.Treinamento.to_string()\n",
    "\n",
    "tainString_Irrelevante = cleanup(trainString_Irrelevante)\n",
    "tainString_Relevante = cleanup(trainString_Relevante)\n",
    "tainString_MuitoRelevante = cleanup(trainString_MuitoRelevante)"
   ]
  },
  {
   "cell_type": "code",
   "execution_count": 15,
   "metadata": {},
   "outputs": [],
   "source": [
    "todasPalavras_Irrelevante = trainString_Irrelevante.split()\n",
    "todasPalavras_Relevante = trainString_Relevante.split()\n",
    "todasPalavras_MuitoRelevante = trainString_MuitoRelevante.split()\n",
    "\n",
    "serieIrrelevante = pd.Series(todasPalavras_Irrelevante)\n",
    "serieRelevante = pd.Series(todasPalavras_Relevante)\n",
    "serieMuitoRelevante = pd.Series(todasPalavras_MuitoRelevante)"
   ]
  },
  {
   "cell_type": "code",
   "execution_count": 11,
   "metadata": {},
   "outputs": [],
   "source": [
    "tabelaIrrelevante = serieIrrelevante.value_counts()\n",
    "tabelaRelevante = serieRelevante.value_counts()\n",
    "tabelaMuitoRelevante = serieMuitoRelevante.value_counts()"
   ]
  },
  {
   "cell_type": "code",
   "execution_count": 12,
   "metadata": {},
   "outputs": [
    {
     "name": "stdout",
     "output_type": "stream",
     "text": [
      "começar    0.000718\n",
      "dtype: float64\n",
      "438    0.00119\n",
      "dtype: float64\n"
     ]
    }
   ],
   "source": [
    "tabelaIrrelevanteRelativa = serieIrrelevante.value_counts(True)\n",
    "tabelaRelevanteRelativa = serieRelevante.value_counts(True)\n",
    "tabelaMuitoRelevanteRelativa = serieMuitoRelevante.value_counts(True)\n",
    "print(tabelaRelevanteRelativa.tail(1))\n",
    "print(tabelaMuitoRelevanteRelativa.tail(1))"
   ]
  },
  {
   "cell_type": "code",
   "execution_count": 17,
   "metadata": {},
   "outputs": [],
   "source": [
    "total_palavras_Irrelevante = len(serieIrrelevante)\n",
    "total_palavras_Relevante = len(serieRelevante)\n",
    "total_palavras_MuitoRelevante = len(serieMuitoRelevante)\n",
    "todas_palavras = total_palavras_Irrelevante + total_palavras_Relevante + total_palavras_MuitoRelevante"
   ]
  },
  {
   "cell_type": "code",
   "execution_count": 40,
   "metadata": {},
   "outputs": [],
   "source": [
    "def classificador (tweet):\n",
    "    clean = cleanup(tweet)\n",
    "    palavras = clean.split()\n",
    "    probIrrelevante = 1\n",
    "    probRelevante = 1\n",
    "    probMuitoRelevante = 1\n",
    "    for i in palavras:\n",
    "        if (i in tabelaIrrelevanteRelativa):\n",
    "            probIrrelevante *= tabelaIrrelevanteRelativa[i]/(todas_palavras)\n",
    "            \n",
    "        if (i in tabelaRelevanteRelativa):\n",
    "            probRelevante *= tabelaRelevanteRelativa[i]/(todas_palavras)\n",
    "            \n",
    "        if (i in tabelaMuitoRelevanteRelativa):\n",
    "            probMuitoRelevante *= tabelaMuitoRelevanteRelativa[i]/(todas_palavras)\n",
    "            \n",
    "        else:\n",
    "            probMuitoRelevante *= 1/(todas_palavras)\n",
    "            probRelevante *= 1/(todas_palavras)\n",
    "            \n",
    "    if probMuitoRelevante > probRelevante and probIrrelevante < probMuitoRelevante:\n",
    "        test.loc[test.Teste==tweet, 'ClassByTweet'] = 'Muito Relevante'\n",
    "    elif probIrrelevante < probRelevante and probRelevante > probMuitoRelevante:\n",
    "        test.loc[test.Teste==tweet, 'ClassByTweet'] = 'Relevante'\n",
    "    else:\n",
    "        test.loc[test.Teste==tweet, 'ClassByTweet'] = 'Irrelevante'"
   ]
  },
  {
   "cell_type": "markdown",
   "metadata": {},
   "source": [
    "___\n",
    "### Verificando a performance do Classificador\n",
    "\n",
    "Agora você deve testar o seu classificador com a base de Testes."
   ]
  },
  {
   "cell_type": "code",
   "execution_count": 42,
   "metadata": {},
   "outputs": [],
   "source": [
    "for e in test.Teste:\n",
    "    classificador(e)"
   ]
  },
  {
   "cell_type": "code",
   "execution_count": 43,
   "metadata": {},
   "outputs": [
    {
     "data": {
      "text/plain": [
       "Irrelevante        268\n",
       "Muito Relevante     38\n",
       "Relevante           21\n",
       "Name: ClassByTweet, dtype: int64"
      ]
     },
     "execution_count": 43,
     "metadata": {},
     "output_type": "execute_result"
    }
   ],
   "source": [
    "test.ClassByTweet.value_counts()"
   ]
  },
  {
   "cell_type": "code",
   "execution_count": 44,
   "metadata": {},
   "outputs": [
    {
     "data": {
      "text/html": [
       "<div>\n",
       "<style scoped>\n",
       "    .dataframe tbody tr th:only-of-type {\n",
       "        vertical-align: middle;\n",
       "    }\n",
       "\n",
       "    .dataframe tbody tr th {\n",
       "        vertical-align: top;\n",
       "    }\n",
       "\n",
       "    .dataframe thead th {\n",
       "        text-align: right;\n",
       "    }\n",
       "</style>\n",
       "<table border=\"1\" class=\"dataframe\">\n",
       "  <thead>\n",
       "    <tr style=\"text-align: right;\">\n",
       "      <th>ClassByTweet</th>\n",
       "      <th>Irrelevante</th>\n",
       "      <th>Muito Relevante</th>\n",
       "      <th>Relevante</th>\n",
       "    </tr>\n",
       "    <tr>\n",
       "      <th>Categoria</th>\n",
       "      <th></th>\n",
       "      <th></th>\n",
       "      <th></th>\n",
       "    </tr>\n",
       "  </thead>\n",
       "  <tbody>\n",
       "    <tr>\n",
       "      <th>Irrelevante</th>\n",
       "      <td>0.464832</td>\n",
       "      <td>0.076453</td>\n",
       "      <td>0.021407</td>\n",
       "    </tr>\n",
       "    <tr>\n",
       "      <th>Relevante</th>\n",
       "      <td>0.204893</td>\n",
       "      <td>0.012232</td>\n",
       "      <td>0.027523</td>\n",
       "    </tr>\n",
       "    <tr>\n",
       "      <th>Muito Relevante</th>\n",
       "      <td>0.149847</td>\n",
       "      <td>0.027523</td>\n",
       "      <td>0.015291</td>\n",
       "    </tr>\n",
       "  </tbody>\n",
       "</table>\n",
       "</div>"
      ],
      "text/plain": [
       "ClassByTweet     Irrelevante  Muito Relevante  Relevante\n",
       "Categoria                                               \n",
       "Irrelevante         0.464832         0.076453   0.021407\n",
       "Relevante           0.204893         0.012232   0.027523\n",
       "Muito Relevante     0.149847         0.027523   0.015291"
      ]
     },
     "execution_count": 44,
     "metadata": {},
     "output_type": "execute_result"
    }
   ],
   "source": [
    "pd.crosstab(test.Categoria, test.ClassByTweet, normalize=True)"
   ]
  },
  {
   "cell_type": "code",
   "execution_count": 45,
   "metadata": {},
   "outputs": [
    {
     "data": {
      "text/html": [
       "<div>\n",
       "<style scoped>\n",
       "    .dataframe tbody tr th:only-of-type {\n",
       "        vertical-align: middle;\n",
       "    }\n",
       "\n",
       "    .dataframe tbody tr th {\n",
       "        vertical-align: top;\n",
       "    }\n",
       "\n",
       "    .dataframe thead th {\n",
       "        text-align: right;\n",
       "    }\n",
       "</style>\n",
       "<table border=\"1\" class=\"dataframe\">\n",
       "  <thead>\n",
       "    <tr style=\"text-align: right;\">\n",
       "      <th>ClassByTweet</th>\n",
       "      <th>Irrelevante</th>\n",
       "      <th>Muito Relevante</th>\n",
       "      <th>Relevante</th>\n",
       "    </tr>\n",
       "    <tr>\n",
       "      <th>Categoria</th>\n",
       "      <th></th>\n",
       "      <th></th>\n",
       "      <th></th>\n",
       "    </tr>\n",
       "  </thead>\n",
       "  <tbody>\n",
       "    <tr>\n",
       "      <th>Irrelevante</th>\n",
       "      <td>0.567164</td>\n",
       "      <td>0.657895</td>\n",
       "      <td>0.333333</td>\n",
       "    </tr>\n",
       "    <tr>\n",
       "      <th>Relevante</th>\n",
       "      <td>0.250000</td>\n",
       "      <td>0.105263</td>\n",
       "      <td>0.428571</td>\n",
       "    </tr>\n",
       "    <tr>\n",
       "      <th>Muito Relevante</th>\n",
       "      <td>0.182836</td>\n",
       "      <td>0.236842</td>\n",
       "      <td>0.238095</td>\n",
       "    </tr>\n",
       "  </tbody>\n",
       "</table>\n",
       "</div>"
      ],
      "text/plain": [
       "ClassByTweet     Irrelevante  Muito Relevante  Relevante\n",
       "Categoria                                               \n",
       "Irrelevante         0.567164         0.657895   0.333333\n",
       "Relevante           0.250000         0.105263   0.428571\n",
       "Muito Relevante     0.182836         0.236842   0.238095"
      ]
     },
     "execution_count": 45,
     "metadata": {},
     "output_type": "execute_result"
    }
   ],
   "source": [
    "pd.crosstab(test.Categoria, test.ClassByTweet, normalize='columns')"
   ]
  },
  {
   "cell_type": "markdown",
   "metadata": {},
   "source": [
    "___\n",
    "### Concluindo"
   ]
  },
  {
   "cell_type": "code",
   "execution_count": 46,
   "metadata": {},
   "outputs": [
    {
     "name": "stdout",
     "output_type": "stream",
     "text": [
      "Classificados corretamente Irrelevantes: 46.4%\n",
      "Classificados corretamente Relevantes: 2.7%\n",
      "Classificados corretamente Muito Relevantes: 2.7%\n",
      "\n",
      "Classificados corretamente geral: 51.80%\n"
     ]
    }
   ],
   "source": [
    "print(f'Classificados corretamente Irrelevantes: 46.4%')\n",
    "print(f'Classificados corretamente Relevantes: 2.7%')\n",
    "print(f'Classificados corretamente Muito Relevantes: 2.7%')\n",
    "print(f'\\nClassificados corretamente geral: {46.4+2.7+2.7:.2f}%')"
   ]
  },
  {
   "cell_type": "markdown",
   "metadata": {},
   "source": [
    "Dado que muitos tweets são difíceis de classificar, uma vez que determinar a probabilidade pelas palavras é diferente do que a interpretação geral pode transmitir, é muito mais fácil conseguir um sucesso maior em classificar os tweets Irrelevantes do que as outras categorias. Além disso, uma pequena modificação realizada no classificador provou-se melhorar a performance do mesmo: me refiro ao else dentro do for. O que esta lógica provoca é que, caso a palavra não esteja em nenhuma das listas (ou seja, não foi usada em nenhum tweet do treinamento), é muito mais provável que ela seja Irrelevante. Porém, em vez de multiplicar a probabilidade por 0, o que automaticamente classificaria esse tweet como Irrelevante (as probabilidades \"Muito Relevante\" e \"Relevante\" seriam anuladas), foi usado o método de *laplace* que impede que essas probabilidades sejam anuladas. Isso permite, caso haja uma outra palavra que seja muito mais provavel de classificar ou em Relevante ou em Muito Relevante, o classificador ainda tem chance de classificar o tweet \"corretamente\".\n",
    "\n",
    "O classificador Naïve Bayes pode ser usado em diversos outros cenários, por exemplo classificar um perfil de estudante mais provavel de ficar de DP ou classificar o tipo de consumidor mais provavel de pedir fastfood por aplicativos de entrega. Claro,  isso são apenas exemplos, mas de maneira geral, o classificador Naïve Bayes tem maior eficiência quando se trata da identificação de dados numéricos, e não textos, já que a multiplicação das probabilidades das palavras pode resultar um uma probabilidade que não representa o significado do texto, também pois esse pode variar dependendo das diversas interpretações (algo que esse classificador não é capaz de fazer)."
   ]
  },
  {
   "cell_type": "markdown",
   "metadata": {},
   "source": [
    "___\n",
    "## Aperfeiçoamento:\n",
    "\n",
    "Os trabalhos vão evoluir em conceito dependendo da quantidade de itens avançados:\n",
    "\n",
    "* Limpar: \\n, :, \", ', (, ), etc SEM remover emojis\n",
    "* Corrigir separação de espaços entre palavras e emojis ou entre emojis e emojis\n",
    "* Propor outras limpezas e transformações que não afetem a qualidade da informação ou classificação\n",
    "* Criar categorias intermediárias de relevância baseadas na probabilidade: ex.: muito relevante, relevante, neutro, irrelevante, muito irrelevante (3 categorias: C, mais categorias conta para B)\n",
    "* Explicar por que não posso usar o próprio classificador para gerar mais amostras de treinamento\n",
    "* Propor diferentes cenários para Naïve Bayes fora do contexto do projeto\n",
    "* Sugerir e explicar melhorias reais com indicações concretas de como implementar (indicar como fazer e indicar material de pesquisa)\n",
    "* Montar um dashboard que realiza análise de sentimento e visualiza estes dados"
   ]
  },
  {
   "cell_type": "markdown",
   "metadata": {},
   "source": [
    "___\n",
    "## Referências"
   ]
  },
  {
   "cell_type": "markdown",
   "metadata": {},
   "source": [
    "[Naive Bayes and Text Classification](https://arxiv.org/pdf/1410.5329.pdf)  **Mais completo**\n",
    "\n",
    "[A practical explanation of a Naive Bayes Classifier](https://monkeylearn.com/blog/practical-explanation-naive-bayes-classifier/) **Mais simples**"
   ]
  },
  {
   "cell_type": "code",
   "execution_count": null,
   "metadata": {},
   "outputs": [],
   "source": []
  }
 ],
 "metadata": {
  "kernelspec": {
   "display_name": "Python 3",
   "language": "python",
   "name": "python3"
  },
  "language_info": {
   "codemirror_mode": {
    "name": "ipython",
    "version": 3
   },
   "file_extension": ".py",
   "mimetype": "text/x-python",
   "name": "python",
   "nbconvert_exporter": "python",
   "pygments_lexer": "ipython3",
   "version": "3.7.6"
  }
 },
 "nbformat": 4,
 "nbformat_minor": 4
}
